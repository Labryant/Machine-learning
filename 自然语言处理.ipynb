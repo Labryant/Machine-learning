{
 "cells": [
  {
   "cell_type": "code",
   "execution_count": 7,
   "metadata": {},
   "outputs": [
    {
     "name": "stdout",
     "output_type": "stream",
     "text": [
      "hello,world!\n",
      "world! \n",
      " hello,world\n"
     ]
    }
   ],
   "source": [
    "#字符串操作\n",
    "#去空格及特殊符号\n",
    "s=' hello,world! '\n",
    "print (s.strip())#去除首尾字符\n",
    "print (s.lstrip('hello, '))#左侧字符\n",
    "print (s.rstrip(' ! '))"
   ]
  },
  {
   "cell_type": "code",
   "execution_count": 5,
   "metadata": {},
   "outputs": [
    {
     "name": "stdout",
     "output_type": "stream",
     "text": [
      "strcatappend\n"
     ]
    }
   ],
   "source": [
    "#连接字符串\n",
    "sStr1='strcat'\n",
    "sStr2='append'\n",
    "sStr1+=sStr2\n",
    "print(sStr1)"
   ]
  },
  {
   "cell_type": "code",
   "execution_count": 9,
   "metadata": {},
   "outputs": [
    {
     "name": "stdout",
     "output_type": "stream",
     "text": [
      "2\n"
     ]
    }
   ],
   "source": [
    "#查找字符\n",
    "sStr1='strchr'\n",
    "sStr2='r'\n",
    "nPos=sStr1.index(sStr2)\n",
    "print (nPos)"
   ]
  },
  {
   "cell_type": "code",
   "execution_count": 12,
   "metadata": {},
   "outputs": [
    {
     "name": "stdout",
     "output_type": "stream",
     "text": [
      "-1\n",
      "1\n",
      "0\n"
     ]
    }
   ],
   "source": [
    "#比较字符串\n",
    "sStr1='strchr'\n",
    "sStr2='strch'\n",
    "def cmp(a, b):\n",
    "    return (a > b) - (a < b)#cmp在此版本中已弃用，重新定义一个函数\n",
    "print (cmp(sStr2,sStr1))\n",
    "print (cmp(sStr1,sStr2))\n",
    "print (cmp(sStr1,sStr1))"
   ]
  },
  {
   "cell_type": "code",
   "execution_count": 13,
   "metadata": {},
   "outputs": [
    {
     "name": "stdout",
     "output_type": "stream",
     "text": [
      "JCSTRLWR\n"
     ]
    }
   ],
   "source": [
    "#字符串中的大小写转换\n",
    "sStr1='JCstrlwr'\n",
    "sStr1=sStr1.upper()\n",
    "print(sStr1)"
   ]
  },
  {
   "cell_type": "code",
   "execution_count": 14,
   "metadata": {},
   "outputs": [
    {
     "name": "stdout",
     "output_type": "stream",
     "text": [
      "gfedcba\n"
     ]
    }
   ],
   "source": [
    "#翻转字符串\n",
    "sStr1='abcdefg'\n",
    "sStr1=sStr1[::-1]\n",
    "print (sStr1)"
   ]
  },
  {
   "cell_type": "code",
   "execution_count": 15,
   "metadata": {},
   "outputs": [
    {
     "name": "stdout",
     "output_type": "stream",
     "text": [
      "2\n"
     ]
    }
   ],
   "source": [
    "#查找字符串\n",
    "sStr1='abcdefg'\n",
    "sStr2='cde'\n",
    "print (sStr1.find(sStr2))"
   ]
  },
  {
   "cell_type": "code",
   "execution_count": 17,
   "metadata": {},
   "outputs": [
    {
     "name": "stdout",
     "output_type": "stream",
     "text": [
      "cde,fgh,ijk\n",
      "['ab', 'cde', 'fgh', 'ijk']\n"
     ]
    }
   ],
   "source": [
    "#分割字符串\n",
    "sStr1='ab,cde,fgh,ijk'\n",
    "sStr2=','\n",
    "sStr1=sStr1[sStr1.find(sStr2)+1:]\n",
    "print (sStr1)\n",
    "#或者\n",
    "s='ab,cde,fgh,ijk'\n",
    "print(s.split(',')) "
   ]
  },
  {
   "cell_type": "code",
   "execution_count": 1,
   "metadata": {
    "collapsed": true
   },
   "outputs": [],
   "source": [
    "#计算字符串中出现频数最多的字母\n",
    "import re\n",
    "from collections import Counter\n",
    "\n",
    "def get_max_value_v1(text):\n",
    "    text=text.lower()\n",
    "    result=re.findall('[a-zA-Z]',text)\n",
    "    count=Counter(result)\n",
    "    count_list=list(count.values())\n",
    "    max_value=max(count_list)\n",
    "    max_list=[]\n",
    "    for k,v in count.items():\n",
    "        if v==max_value:\n",
    "            max_list.append(k)\n",
    "        max_list=sorted(max_list)\n",
    "        return max_list[0]\n",
    "    \n",
    "    \n",
    "    \n",
    "    "
   ]
  },
  {
   "cell_type": "code",
   "execution_count": 2,
   "metadata": {},
   "outputs": [
    {
     "name": "stdout",
     "output_type": "stream",
     "text": [
      "hello,hanxiaoyang!\n"
     ]
    }
   ],
   "source": [
    "#re模块\n",
    "import re\n",
    "pattern=re.compile(r'hello.*\\!')\n",
    "match=pattern.match('hello,hanxiaoyang! How are you?')\n",
    "if match:\n",
    "    print (match.group())\n",
    "#注意flag的用法re.compile('pattern',re.I\\re.W)"
   ]
  },
  {
   "cell_type": "code",
   "execution_count": 8,
   "metadata": {
    "scrolled": true
   },
   "outputs": [
    {
     "ename": "AttributeError",
     "evalue": "'NoneType' object has no attribute 'string'",
     "output_type": "error",
     "traceback": [
      "\u001b[1;31m---------------------------------------------------------------------------\u001b[0m",
      "\u001b[1;31mAttributeError\u001b[0m                            Traceback (most recent call last)",
      "\u001b[1;32m<ipython-input-8-950b2a411775>\u001b[0m in \u001b[0;36m<module>\u001b[1;34m()\u001b[0m\n\u001b[0;32m      2\u001b[0m \u001b[0mm\u001b[0m\u001b[1;33m=\u001b[0m\u001b[0mre\u001b[0m\u001b[1;33m.\u001b[0m\u001b[0mmatch\u001b[0m\u001b[1;33m(\u001b[0m\u001b[1;34mr'(\\W+) (\\W+)(?P<sign>.*)'\u001b[0m\u001b[1;33m,\u001b[0m\u001b[1;34m'hello hanxiaoyang!'\u001b[0m\u001b[1;33m)\u001b[0m\u001b[1;33m\u001b[0m\u001b[0m\n\u001b[0;32m      3\u001b[0m \u001b[1;33m\u001b[0m\u001b[0m\n\u001b[1;32m----> 4\u001b[1;33m \u001b[0mprint\u001b[0m \u001b[1;33m(\u001b[0m\u001b[1;34m\"m.string:\"\u001b[0m\u001b[1;33m,\u001b[0m\u001b[0mm\u001b[0m\u001b[1;33m.\u001b[0m\u001b[0mstring\u001b[0m\u001b[1;33m)\u001b[0m\u001b[1;33m\u001b[0m\u001b[0m\n\u001b[0m\u001b[0;32m      5\u001b[0m \u001b[0mprint\u001b[0m \u001b[1;33m(\u001b[0m\u001b[1;34m\"m.re:\"\u001b[0m\u001b[1;33m,\u001b[0m\u001b[0mm\u001b[0m\u001b[1;33m.\u001b[0m\u001b[0mre\u001b[0m\u001b[1;33m)\u001b[0m\u001b[1;33m\u001b[0m\u001b[0m\n\u001b[0;32m      6\u001b[0m \u001b[0mprint\u001b[0m \u001b[1;33m(\u001b[0m\u001b[1;34m\"m.pos:\"\u001b[0m\u001b[1;33m,\u001b[0m\u001b[0mm\u001b[0m\u001b[1;33m.\u001b[0m\u001b[0mpos\u001b[0m\u001b[1;33m)\u001b[0m\u001b[1;33m\u001b[0m\u001b[0m\n",
      "\u001b[1;31mAttributeError\u001b[0m: 'NoneType' object has no attribute 'string'"
     ]
    }
   ],
   "source": [
    "import re\n",
    "m=re.match(r'(\\W+) (\\W+)(?P<sign>.*)','hello hanxiaoyang!')\n",
    "\n",
    "print (\"m.string:\",m.string)\n",
    "print (\"m.re:\",m.re)\n",
    "print (\"m.pos:\",m.pos)\n",
    "print (\"m.endpos:\",m.endpos)\n",
    "print (\"m.lastindex:\",m.lastindex)\n",
    "print (\"m.lastgroup:\",m.lastgroup)\n",
    "\n",
    "print (\"m.group(1,2):\",m.group(1,2))\n",
    "print (\"m.groups():\",m.groups())\n",
    "print (\"m.groupdict()\",m.groupdict())\n",
    "print (\"m.start(2):\",m.start(2))\n",
    "print (\"m.end(2):\",m.end(2))\n",
    "print (\"m.span(2):\",m.span(2))\n",
    "print (\"m.expand(r'\\2 \\1\\3'):\",m.expand(r'\\2 \\1\\3'))"
   ]
  },
  {
   "cell_type": "code",
   "execution_count": 10,
   "metadata": {},
   "outputs": [
    {
     "name": "stdout",
     "output_type": "stream",
     "text": [
      "['one', 'two', 'three', 'four', '']\n"
     ]
    }
   ],
   "source": [
    "import re\n",
    "p=re.compile(r'\\d+')\n",
    "print (p.split('one1two2three3four4'))"
   ]
  },
  {
   "cell_type": "code",
   "execution_count": 11,
   "metadata": {},
   "outputs": [
    {
     "name": "stdout",
     "output_type": "stream",
     "text": [
      "['1', '2', '3', '4']\n"
     ]
    }
   ],
   "source": [
    "import re\n",
    "p=re.compile(r'\\d+')\n",
    "print (p.findall('one1two2three3four4'))"
   ]
  },
  {
   "cell_type": "code",
   "execution_count": 14,
   "metadata": {},
   "outputs": [
    {
     "name": "stdout",
     "output_type": "stream",
     "text": [
      "i say, hello hanxiaoyang!\n",
      "i say, hello hanxiaoyang!\n"
     ]
    }
   ],
   "source": [
    "import re \n",
    "p=re.compile(r'(\\W+) (\\W+)')\n",
    "s='i say, hello hanxiaoyang!'\n",
    "print (p.sub(r'\\2 \\1',s))\n",
    "def func(m):\n",
    "    return m.group(1).title()+' '+m.group(2).title()\n",
    "print (p.sub(func,s))\n",
    "#subn可以返回次数"
   ]
  },
  {
   "cell_type": "code",
   "execution_count": 1,
   "metadata": {},
   "outputs": [
    {
     "ename": "ModuleNotFoundError",
     "evalue": "No module named 'jieba'",
     "output_type": "error",
     "traceback": [
      "\u001b[1;31m---------------------------------------------------------------------------\u001b[0m",
      "\u001b[1;31mModuleNotFoundError\u001b[0m                       Traceback (most recent call last)",
      "\u001b[1;32m<ipython-input-1-de55f6c04355>\u001b[0m in \u001b[0;36m<module>\u001b[1;34m()\u001b[0m\n\u001b[0;32m      1\u001b[0m \u001b[1;31m#jieba中文处理\u001b[0m\u001b[1;33m\u001b[0m\u001b[1;33m\u001b[0m\u001b[0m\n\u001b[1;32m----> 2\u001b[1;33m \u001b[1;32mimport\u001b[0m \u001b[0mjieba\u001b[0m\u001b[1;33m\u001b[0m\u001b[0m\n\u001b[0m\u001b[0;32m      3\u001b[0m \u001b[0mseg_list\u001b[0m\u001b[1;33m=\u001b[0m\u001b[0mjieba\u001b[0m\u001b[1;33m.\u001b[0m\u001b[0mcut\u001b[0m\u001b[1;33m(\u001b[0m\u001b[1;34m'我在学习自然语言处理'\u001b[0m\u001b[1;33m,\u001b[0m\u001b[0mcut_all\u001b[0m\u001b[1;33m=\u001b[0m\u001b[1;32mTrue\u001b[0m\u001b[1;33m)\u001b[0m\u001b[1;33m\u001b[0m\u001b[0m\n\u001b[0;32m      4\u001b[0m \u001b[0mprint\u001b[0m \u001b[1;33m(\u001b[0m\u001b[0mseg_list\u001b[0m\u001b[1;33m)\u001b[0m\u001b[1;33m\u001b[0m\u001b[0m\n\u001b[0;32m      5\u001b[0m \u001b[0mprint\u001b[0m \u001b[1;33m(\u001b[0m\u001b[1;34m'Full Mode:'\u001b[0m\u001b[1;33m+\u001b[0m\u001b[1;34m'/'\u001b[0m\u001b[1;33m.\u001b[0m\u001b[0mjoin\u001b[0m\u001b[1;33m(\u001b[0m\u001b[0mseg_list\u001b[0m\u001b[1;33m)\u001b[0m\u001b[1;33m)\u001b[0m \u001b[1;31m#全模式\u001b[0m\u001b[1;33m\u001b[0m\u001b[0m\n",
      "\u001b[1;31mModuleNotFoundError\u001b[0m: No module named 'jieba'"
     ]
    }
   ],
   "source": [
    "#jieba中文处理\n",
    "import jieba\n",
    "seg_list=jieba.cut('我在学习自然语言处理',cut_all=True)\n",
    "print (seg_list)\n",
    "print ('Full Mode:'+'/'.join(seg_list)) #全模式\n",
    "       \n",
    "seg_list=jieba.cut('我在学习自然语言处理',cut_all=False)\n",
    "print ('Default Mode:'+'/'.join(seg_list))  #精确模式\n",
    "\n",
    "seg_list=jieba.cut('他毕业于上海交通大学，在百度深度学习研究所进行研究')#默认是精确模式\n",
    "print(','.join(seg_list))\n"
   ]
  },
  {
   "cell_type": "code",
   "execution_count": null,
   "metadata": {
    "collapsed": true
   },
   "outputs": [],
   "source": []
  }
 ],
 "metadata": {
  "kernelspec": {
   "display_name": "Python 3",
   "language": "python",
   "name": "python3"
  }
 },
 "nbformat": 4,
 "nbformat_minor": 2
}
